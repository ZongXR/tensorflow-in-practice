{
 "cells": [
  {
   "cell_type": "markdown",
   "metadata": {},
   "source": [
    "说明：此文档是tensorflow的包结构及用法文档，tensorflow版本为2.3.0，建议开启jupyter的Table of Contents查看。h标签包围的是包；细体是函数或变量；粗体是类。"
   ]
  },
  {
   "cell_type": "code",
   "execution_count": 1,
   "metadata": {
    "ExecuteTime": {
     "end_time": "2021-03-04T11:17:08.088781Z",
     "start_time": "2021-03-04T11:17:08.086771Z"
    }
   },
   "outputs": [],
   "source": [
    "from typing import Union, List, Tuple\n",
    "from types import FunctionType\n",
    "from numbers import Number"
   ]
  },
  {
   "cell_type": "code",
   "execution_count": 25,
   "metadata": {
    "ExecuteTime": {
     "end_time": "2021-03-04T13:34:51.259284Z",
     "start_time": "2021-03-04T13:34:51.253284Z"
    }
   },
   "outputs": [
    {
     "name": "stdout",
     "output_type": "stream",
     "text": [
      "2.3.0\n"
     ]
    }
   ],
   "source": [
    "import tensorflow as tf\n",
    "from tensorflow import Tensor, GradientTape, Variable, int32, int64, float32, float64, double, string\n",
    "from tensorflow.keras.layers import Input, Dense, Flatten, Layer\n",
    "from tensorflow.keras.models import Sequential, Model\n",
    "from tensorflow.keras.optimizers import Optimizer, SGD\n",
    "from tensorflow.keras.losses import mse\n",
    "from tensorflow.keras.utils import to_categorical\n",
    "from tensorflow.raw_ops import TensorSliceDataset, BatchDataset\n",
    "from tensorflow.dtypes import DType\n",
    "from tensorflow import reshape, expand_dims, square, reduce_sum, reduce_mean, reduce_max, reduce_min, constant, is_tensor, convert_to_tensor, cast, ones, ones_like, zeros, zeros_like, fill, one_hot, gather, gather_nd, boolean_mask, transpose, squeeze, broadcast_to, tile, matmul, concat, stack, split, unstack, norm, argmax, argmin, equal, unique, sort, argsort\n",
    "from tensorflow.random import normal, truncated_normal, uniform, shuffle\n",
    "from tensorflow.math import log, exp, top_k\n",
    "print(tf.__version__)"
   ]
  },
  {
   "cell_type": "markdown",
   "metadata": {},
   "source": [
    "<h1>tensorflow</h1>"
   ]
  },
  {
   "cell_type": "markdown",
   "metadata": {},
   "source": [
    "<p><b>tf.Tensor</b></p>"
   ]
  },
  {
   "cell_type": "code",
   "execution_count": 46,
   "metadata": {
    "ExecuteTime": {
     "end_time": "2021-02-28T01:12:11.393832Z",
     "start_time": "2021-02-28T01:12:11.389569Z"
    }
   },
   "outputs": [],
   "source": [
    "class Tensor:                               # 张量，不可呗自动梯度跟踪\n",
    "    \n",
    "    shape: Tuple[int]                        # 张量的形状\n",
    "        \n",
    "    ndim: int                                # 张量的维度，同len(self.shape)\n",
    "        \n",
    "    device: str                              # 张量的硬件设备\n",
    "        \n",
    "    name: str                               # 张量的名称，需要事先启用eager excution，否则报错\n",
    "        \n",
    "    dtype: DType                            # Tensor的类型\n",
    "        \n",
    "    def rank(                               # 返回Tensor格式的ndim\n",
    "        self\n",
    "    ) -> Tensor: pass\n",
    "        \n",
    "    def gpu(                                # 非原地将张量放到GPU上\n",
    "        self\n",
    "    ) -> Tensor: pass\n",
    "    \n",
    "    def cpu(                                # 非原地将张量放到CPU上\n",
    "        self\n",
    "    ) -> Tensor: pass\n",
    "    \n",
    "    def numpy(                               # 将Tensor转换成numpy数组\n",
    "        self\n",
    "    ) -> np.ndarray: pass"
   ]
  },
  {
   "cell_type": "markdown",
   "metadata": {},
   "source": [
    "<p><b>tf.Variable</b></p>"
   ]
  },
  {
   "cell_type": "code",
   "execution_count": 6,
   "metadata": {
    "ExecuteTime": {
     "end_time": "2021-03-02T07:32:13.875347Z",
     "start_time": "2021-03-02T07:32:13.872220Z"
    }
   },
   "outputs": [],
   "source": [
    "class Variable:                                            # 参数，通常是权重或偏置，可以被自动梯度跟踪\n",
    "    \n",
    "    name: str                                               # 参数的名称\n",
    "        \n",
    "    trainable: bool = True                                 # 是否非冻结\n",
    "    \n",
    "    def __init__(\n",
    "        self,\n",
    "        initial_value: Union[None, Tensor]=None,           # 【含义】数值；【用法】通常在此参数填入要包装的Tensor                   \n",
    "        trainable: bool = True,                            # 【含义】是否非冻结\n",
    "        validate_shape=True,\n",
    "        caching_device=None,\n",
    "        name=None,\n",
    "        variable_def=None,\n",
    "        dtype=None,\n",
    "        import_scope=None,\n",
    "        constraint=None,\n",
    "        synchronization=0,\n",
    "        aggregation=0,\n",
    "        shape=None\n",
    "    ) -> None: pass\n",
    "    \n",
    "    def assign_sub(                                        # 原地操作相减\n",
    "        delta: Tensor,                                     # 【含义】减去的张量\n",
    "        use_locking: Union[None, bool] = None, \n",
    "        name=None, \n",
    "        read_value: Union[None, bool] = True            \n",
    "    ) -> None: pass"
   ]
  },
  {
   "cell_type": "markdown",
   "metadata": {},
   "source": [
    "<p>tf.constant</p>"
   ]
  },
  {
   "cell_type": "code",
   "execution_count": 22,
   "metadata": {
    "ExecuteTime": {
     "end_time": "2021-02-28T00:55:34.351161Z",
     "start_time": "2021-02-28T00:55:34.345195Z"
    }
   },
   "outputs": [],
   "source": [
    "def constant(                                                                    # 创建一个Tensor\n",
    "    value: Union[int, float, bool, str],                                         # 【含义】Tensor的数值\n",
    "    dtype: Union[None, DType] = None,                                           # 【含义】Tensor的类型；【用法】int32, int64, float32, float64, string, tf.bool, double中的一个\n",
    "    shape: Union[None, Tuple[int]] = None,                                      # 【含义】Tensor的形状\n",
    "    name: str = \"Const\"                                                          # 【含义】Tensor的名称\n",
    ") -> Tensor: pass"
   ]
  },
  {
   "cell_type": "markdown",
   "metadata": {},
   "source": [
    "<p>tf.convert_to_tensor</p>"
   ]
  },
  {
   "cell_type": "code",
   "execution_count": 49,
   "metadata": {
    "ExecuteTime": {
     "end_time": "2021-02-28T03:42:33.082490Z",
     "start_time": "2021-02-28T03:42:33.079455Z"
    }
   },
   "outputs": [],
   "source": [
    "def convert_to_tensor(                         # 数组转Tensor\n",
    "    value: Union[np.ndarray, list],            # 【含义】要转换的数组\n",
    "    dtype: Union[None, DType] = None,         # 【含义】转换后的格式\n",
    "    dtype_hint=None, \n",
    "    name=None\n",
    ") -> Tensor: pass"
   ]
  },
  {
   "cell_type": "markdown",
   "metadata": {},
   "source": [
    "<p>tf.is_tensor</p>"
   ]
  },
  {
   "cell_type": "code",
   "execution_count": 45,
   "metadata": {
    "ExecuteTime": {
     "end_time": "2021-02-28T01:10:55.846614Z",
     "start_time": "2021-02-28T01:10:55.844615Z"
    }
   },
   "outputs": [],
   "source": [
    "def is_tensor(                                 # 判断输入是否为Tensor类型\n",
    "    x: object                                  # 【含义】输入\n",
    ") -> bool: pass"
   ]
  },
  {
   "cell_type": "markdown",
   "metadata": {},
   "source": [
    "<p>tf.cast</p>"
   ]
  },
  {
   "cell_type": "code",
   "execution_count": 51,
   "metadata": {
    "ExecuteTime": {
     "end_time": "2021-02-28T03:45:56.112238Z",
     "start_time": "2021-02-28T03:45:56.109230Z"
    }
   },
   "outputs": [],
   "source": [
    "def cast(                                     # Tensor格式转换\n",
    "    x: Tensor,                                # 【含义】要转换的Tensor\n",
    "    dtype: Union[None, DType] = None,        # 【含义】要转换的类型\n",
    "    name: Union[None, str] = None\n",
    ") -> Tensor: pass"
   ]
  },
  {
   "cell_type": "markdown",
   "metadata": {},
   "source": [
    "<p>tf.square</p>"
   ]
  },
  {
   "cell_type": "code",
   "execution_count": 6,
   "metadata": {
    "ExecuteTime": {
     "end_time": "2021-02-27T23:14:10.153317Z",
     "start_time": "2021-02-27T23:14:10.149323Z"
    }
   },
   "outputs": [],
   "source": [
    "def square(                                    # 将张量每个元素平方\n",
    "    x: Union[Tensor, np.ndarray],              # 【含义】待平方的张量\n",
    "    name: Union[None, str] = None             # 【含义】操作的名称\n",
    ") -> Tensor: pass"
   ]
  },
  {
   "cell_type": "markdown",
   "metadata": {},
   "source": [
    "<p>tf.norm</p>"
   ]
  },
  {
   "cell_type": "code",
   "execution_count": 10,
   "metadata": {
    "ExecuteTime": {
     "end_time": "2021-03-04T11:46:28.047886Z",
     "start_time": "2021-03-04T11:46:28.043905Z"
    }
   },
   "outputs": [],
   "source": [
    "def norm(                                      # 求张量的范数\n",
    "    tensor: Tensor,                            # 【含义】张量\n",
    "    ord: Union[int, str] = 'euclidean',        # 【含义】哪种类型的范数\n",
    "    axis: Union[None, int] = None,            # 【含义】在哪个轴求范数；【用法】默认全局求范数\n",
    "    keepdims: bool = False,                   # 【含义】是否保持维度\n",
    "    name=None\n",
    ") -> Tensor: pass"
   ]
  },
  {
   "cell_type": "markdown",
   "metadata": {},
   "source": [
    "<p>tf.reduce_sum</p>"
   ]
  },
  {
   "cell_type": "code",
   "execution_count": 12,
   "metadata": {
    "ExecuteTime": {
     "end_time": "2021-02-27T23:20:35.213372Z",
     "start_time": "2021-02-27T23:20:35.209371Z"
    }
   },
   "outputs": [],
   "source": [
    "def reduce_sum(                                # 张量相加，用法同np.sum\n",
    "    input_tensor: Union[Tensor, np.ndarray],   # 【含义】待求和张量\n",
    "    axis: Union[None, int],                    # 【含义】对哪个维度相加\n",
    "    keepdims: bool = False,                   # 【含义】输出是否保持输入的shape\n",
    "    name: Union[None, str] = None             # 【含义】操作的名称\n",
    ") -> Tensor: pass"
   ]
  },
  {
   "cell_type": "markdown",
   "metadata": {},
   "source": [
    "<p>tf.reduce_mean</p>"
   ]
  },
  {
   "cell_type": "code",
   "execution_count": 89,
   "metadata": {
    "ExecuteTime": {
     "end_time": "2021-02-28T06:01:38.658490Z",
     "start_time": "2021-02-28T06:01:38.654491Z"
    }
   },
   "outputs": [],
   "source": [
    "def reduce_mean(                               # 张量平均，用法同np.mean\n",
    "    input_tensor: Union[Tensor, np.ndarray],   # 【含义】待平均张量\n",
    "    axis: Union[None, int],                    # 【含义】对哪个维度平均\n",
    "    keepdims: bool = False,                   # 【含义】输出是否保持输入的shape\n",
    "    name: Union[None, str] = None             # 【含义】操作的名称\n",
    ") -> Tensor: pass"
   ]
  },
  {
   "cell_type": "markdown",
   "metadata": {},
   "source": [
    "<p>tf.reduce_max</p>"
   ]
  },
  {
   "cell_type": "code",
   "execution_count": 11,
   "metadata": {
    "ExecuteTime": {
     "end_time": "2021-03-04T11:50:42.601345Z",
     "start_time": "2021-03-04T11:50:42.597309Z"
    }
   },
   "outputs": [],
   "source": [
    "def reduce_max(                               # 张量最大值\n",
    "    input_tensor: Tensor,                     # 【含义】张量\n",
    "    axis: Union[None, int] = None,           # 【含义】在哪个轴降维；【用法】默认整个张量的最大值\n",
    "    keepdims: bool = False,                  # 【含义】是否保持维度；【用法】默认降维\n",
    "    name=None\n",
    ") -> Tensor: pass"
   ]
  },
  {
   "cell_type": "markdown",
   "metadata": {},
   "source": [
    "<p>tf.reduce_min</p>"
   ]
  },
  {
   "cell_type": "code",
   "execution_count": 12,
   "metadata": {
    "ExecuteTime": {
     "end_time": "2021-03-04T11:50:44.443371Z",
     "start_time": "2021-03-04T11:50:44.438371Z"
    }
   },
   "outputs": [],
   "source": [
    "def reduce_min(                             # 张量最小值\n",
    "    input_tensor: Tensor,                   # 【含义】张量 \n",
    "    axis: Union[None, int] = None,         # 【含义】 在哪个轴降维；【用法】默认整个张量的最大值\n",
    "    keepdims: bool = False,                # 【含义】是否保持维度；【用法】默认降维\n",
    "    name=None\n",
    ") -> Tensor: pass"
   ]
  },
  {
   "cell_type": "markdown",
   "metadata": {},
   "source": [
    "<p>tf.argmax</p>"
   ]
  },
  {
   "cell_type": "code",
   "execution_count": 14,
   "metadata": {
    "ExecuteTime": {
     "end_time": "2021-03-04T12:03:40.384858Z",
     "start_time": "2021-03-04T12:03:40.364171Z"
    }
   },
   "outputs": [],
   "source": [
    "def argmax(                                 # 最大值所在位置\n",
    "    input: Tensor,                          # 【含义】张量 \n",
    "    axis: int = 0,                          # 【含义】在哪个轴降维\n",
    "    output_type: DType = tf.int64,          # 【含义】元素类型\n",
    "    name=None\n",
    ") -> tf.Tensor: pass"
   ]
  },
  {
   "cell_type": "markdown",
   "metadata": {},
   "source": [
    "<p>tf.argmin</p>"
   ]
  },
  {
   "cell_type": "code",
   "execution_count": 15,
   "metadata": {
    "ExecuteTime": {
     "end_time": "2021-03-04T12:05:19.133984Z",
     "start_time": "2021-03-04T12:05:19.128985Z"
    }
   },
   "outputs": [],
   "source": [
    "def argmin(                                 # 最小值所在位置\n",
    "    input: Tensor,                          # 【含义】张量 \n",
    "    axis: int = 0,                          # 【含义】在哪个轴降维 \n",
    "    output_type: DType = tf.int64,          # 【含义】元素类型 \n",
    "    name=None\n",
    ") -> Tensor: pass"
   ]
  },
  {
   "cell_type": "markdown",
   "metadata": {},
   "source": [
    "<p>tf.ones</p>"
   ]
  },
  {
   "cell_type": "code",
   "execution_count": 55,
   "metadata": {
    "ExecuteTime": {
     "end_time": "2021-02-28T04:00:22.536478Z",
     "start_time": "2021-02-28T04:00:22.533144Z"
    }
   },
   "outputs": [],
   "source": [
    "def ones(                                    # 全1张量\n",
    "    shape: Union[List[int], Tuple[int]],     # 【含义】矩阵的shaoe\n",
    "    dtype: DType = float32,                  # 【含义】元素的类型\n",
    "    name: Union[None, str] = None           # 【含义】张量的名称\n",
    ") -> Tensor: pass"
   ]
  },
  {
   "cell_type": "markdown",
   "metadata": {},
   "source": [
    "<p>tf.ones_like</p>"
   ]
  },
  {
   "cell_type": "code",
   "execution_count": 61,
   "metadata": {
    "ExecuteTime": {
     "end_time": "2021-02-28T04:13:19.557391Z",
     "start_time": "2021-02-28T04:13:19.554360Z"
    }
   },
   "outputs": [],
   "source": [
    "def ones_like(                              # 创建指定形状的全1张量\n",
    "    input: Tensor,                          # 【含义】取该张量的shape\n",
    "    dtype: Union[None, DType] = None,      # 【含义】元素类型\n",
    "    name: Union[None, str] = None          # 【含义】张量的名称\n",
    ") -> Tensor: pass"
   ]
  },
  {
   "cell_type": "markdown",
   "metadata": {},
   "source": [
    "<p>tf.zeros</p>"
   ]
  },
  {
   "cell_type": "code",
   "execution_count": 58,
   "metadata": {
    "ExecuteTime": {
     "end_time": "2021-02-28T04:11:33.608060Z",
     "start_time": "2021-02-28T04:11:33.605020Z"
    }
   },
   "outputs": [],
   "source": [
    "def zeros(                                   # 全0张量\n",
    "    shape: Union[List[int], Tuple[int]],     # 【含义】矩阵的shaoe\n",
    "    dtype: DType = float32,                  # 【含义】元素的类型\n",
    "    name: Union[None, str] = None           # 【含义】张量的名称\n",
    ") -> Tensor: pass"
   ]
  },
  {
   "cell_type": "markdown",
   "metadata": {},
   "source": [
    "<p>tf.zeros_like</p>"
   ]
  },
  {
   "cell_type": "code",
   "execution_count": 59,
   "metadata": {
    "ExecuteTime": {
     "end_time": "2021-02-28T04:11:34.482914Z",
     "start_time": "2021-02-28T04:11:34.478916Z"
    }
   },
   "outputs": [],
   "source": [
    "def zeros_like(                             # 创建指定形状的全0张量\n",
    "    input: Tensor,                          # 【含义】取该张量的shape\n",
    "    dtype: Union[None, DType] = None,      # 【含义】元素类型\n",
    "    name: Union[None, str] = None          # 【含义】张量的名称\n",
    ") -> Tensor: pass"
   ]
  },
  {
   "cell_type": "markdown",
   "metadata": {},
   "source": [
    "<p>tf.fill</p>"
   ]
  },
  {
   "cell_type": "code",
   "execution_count": 69,
   "metadata": {
    "ExecuteTime": {
     "end_time": "2021-02-28T04:21:04.229457Z",
     "start_time": "2021-02-28T04:21:04.224431Z"
    }
   },
   "outputs": [],
   "source": [
    "def fill(                                   # 创建指定大小的相同元素的张量，同value * tf.ones(dims)\n",
    "    dims: Union[List[int], Tuple[int]],     # 【含义】张量的shape\n",
    "    value: Number,                          # 【含义】张量的元素\n",
    "    name: Union[None, str]                  \n",
    ") -> Tensor: pass"
   ]
  },
  {
   "cell_type": "markdown",
   "metadata": {},
   "source": [
    "<p>tf.one_hot</p>"
   ]
  },
  {
   "cell_type": "code",
   "execution_count": 83,
   "metadata": {
    "ExecuteTime": {
     "end_time": "2021-02-28T05:51:47.477126Z",
     "start_time": "2021-02-28T05:51:47.473156Z"
    }
   },
   "outputs": [],
   "source": [
    "def one_hot(                               # 转换成one_hot格式\n",
    "    indices: Tensor,                       # 【含义】要转换的张量\n",
    "    depth: int,                            # 【含义】one_hot矩阵的维度\n",
    "    on_value=None,\n",
    "    off_value=None,\n",
    "    axis=None,\n",
    "    dtype=None,\n",
    "    name=None,\n",
    ") -> Tensor: pass"
   ]
  },
  {
   "cell_type": "markdown",
   "metadata": {},
   "source": [
    "<p>tf.gather</p>"
   ]
  },
  {
   "cell_type": "code",
   "execution_count": 6,
   "metadata": {
    "ExecuteTime": {
     "end_time": "2021-02-28T23:44:53.308889Z",
     "start_time": "2021-02-28T23:44:53.305917Z"
    }
   },
   "outputs": [],
   "source": [
    "def gather(                                # 使用索引在某一个轴进行切片\n",
    "    params: Tensor,                        # 【含义】待切片张量\n",
    "    indices: List[int],                    # 【含义】切片index\n",
    "    validate_indices=None,\n",
    "    axis: Union[None, int] = None,        # 【含义】对哪个轴进行切片；【用法】默认对batch那个轴做切片\n",
    "    batch_dims: int = 0,                   # 【含义】batch是在哪个轴\n",
    "    name=None,\n",
    ") -> Tensor: pass"
   ]
  },
  {
   "cell_type": "markdown",
   "metadata": {},
   "source": [
    "<p>tf.gather_nd</p>"
   ]
  },
  {
   "cell_type": "code",
   "execution_count": 8,
   "metadata": {
    "ExecuteTime": {
     "end_time": "2021-02-28T23:55:20.599820Z",
     "start_time": "2021-02-28T23:55:20.595821Z"
    }
   },
   "outputs": [],
   "source": [
    "def gather_nd(                            # n维切片\n",
    "    params: Tensor,                       # 【含义】待切片的张量 \n",
    "    indices: List[int],                   # 【含义】切片index\n",
    "    batch_dims: int = 0,                  # 【含义】batch是在哪个轴\n",
    "    name=None\n",
    ") -> Tensor: pass"
   ]
  },
  {
   "cell_type": "markdown",
   "metadata": {},
   "source": [
    "<p>tf.boolean_mask</p>"
   ]
  },
  {
   "cell_type": "code",
   "execution_count": 10,
   "metadata": {
    "ExecuteTime": {
     "end_time": "2021-03-01T00:26:30.548194Z",
     "start_time": "2021-03-01T00:26:30.543189Z"
    }
   },
   "outputs": [],
   "source": [
    "def boolean_mask(                        # 使用bool对元素进行筛选\n",
    "    tensor: Tensor,                      # 【含义】待切片的张量\n",
    "    mask: list,                          # 【含义】是否筛选相应的元素 ；【用法】务必保证mask的shape与tensor[axis]的shape一致\n",
    "    axis: int = 0,                       # 【含义】从哪个轴开始进行切片\n",
    "    name: str = 'boolean_mask'\n",
    ") -> Tensor: pass"
   ]
  },
  {
   "cell_type": "markdown",
   "metadata": {},
   "source": [
    "<p>tf.reshape</p>"
   ]
  },
  {
   "cell_type": "code",
   "execution_count": 37,
   "metadata": {
    "ExecuteTime": {
     "end_time": "2021-02-27T20:24:26.194443Z",
     "start_time": "2021-02-27T20:24:26.191474Z"
    }
   },
   "outputs": [],
   "source": [
    "def reshape(                                   # 将张量改变形状，仅改变view，用法同np.reshape\n",
    "    tensor: Union[Tensor, np.ndarray],         # 【含义】要整形的张量或数组\n",
    "    shape: Tuple[int],                         # 【含义】新的shape\n",
    "    name: Union[None, str] = None             # 【含义】操作的名称\n",
    ") -> Tensor: pass"
   ]
  },
  {
   "cell_type": "markdown",
   "metadata": {},
   "source": [
    "<p>tf.transpose</p>"
   ]
  },
  {
   "cell_type": "code",
   "execution_count": 6,
   "metadata": {
    "ExecuteTime": {
     "end_time": "2021-03-01T14:17:50.752765Z",
     "start_time": "2021-03-01T14:17:50.748800Z"
    }
   },
   "outputs": [],
   "source": [
    "def transpose(                                   # 张量转置，改变content\n",
    "    a: Union[Tensor, np.ndarray],                # 【含义】要转置的张量\n",
    "    perm=None,                                   # 【含义】新的维度的排列顺序；【用法】默认为原先轴的[::-1]\n",
    "    conjugate=False, \n",
    "    name='transpose'\n",
    ") -> Tensor: pass"
   ]
  },
  {
   "cell_type": "markdown",
   "metadata": {},
   "source": [
    "<p>tf.expand_dims</p>"
   ]
  },
  {
   "cell_type": "code",
   "execution_count": 7,
   "metadata": {
    "ExecuteTime": {
     "end_time": "2021-03-01T14:17:52.280941Z",
     "start_time": "2021-03-01T14:17:52.276943Z"
    }
   },
   "outputs": [],
   "source": [
    "def expand_dims(                               # 将张量扩展维度，用法同np.expand_dims\n",
    "    input: Union[Tensor, np.ndarray],          # 【含义】输入的张量或数组\n",
    "    axis: int,                                 # 【含义】在第几个维度扩展\n",
    "    name: Union[None, str] = None             # 【含义】操作的名称\n",
    ") -> Tensor: pass"
   ]
  },
  {
   "cell_type": "markdown",
   "metadata": {},
   "source": [
    "<p>tf.matmul</p>"
   ]
  },
  {
   "cell_type": "code",
   "execution_count": 22,
   "metadata": {
    "ExecuteTime": {
     "end_time": "2021-03-01T15:48:37.828042Z",
     "start_time": "2021-03-01T15:48:37.825043Z"
    }
   },
   "outputs": [],
   "source": [
    "def matmul(                                    # 矩阵相乘\n",
    "    a: Tensor,                                 # 【含义】相乘的第一个张量\n",
    "    b: Tensor,                                 # 【含义】相乘的第二个张量\n",
    "    transpose_a=False,\n",
    "    transpose_b=False,\n",
    "    adjoint_a=False,\n",
    "    adjoint_b=False,\n",
    "    a_is_sparse=False,\n",
    "    b_is_sparse=False,\n",
    "    name=None,\n",
    ") -> Tensor: pass"
   ]
  },
  {
   "cell_type": "markdown",
   "metadata": {},
   "source": [
    "<p>tf.squeeze</p>"
   ]
  },
  {
   "cell_type": "code",
   "execution_count": 8,
   "metadata": {
    "ExecuteTime": {
     "end_time": "2021-03-01T14:17:52.886475Z",
     "start_time": "2021-03-01T14:17:52.883476Z"
    }
   },
   "outputs": [],
   "source": [
    "def squeeze(                                   # 减少一个维度为1的轴\n",
    "    input: Union[Tensor, np.ndarray],          # 【含义】要减少维度的张量\n",
    "    axis: Union[None, int] = None,            # 【含义】要减少哪个轴；【用法】默认去掉所有shape为1的轴\n",
    "    name=None\n",
    ") -> Tensor: pass"
   ]
  },
  {
   "cell_type": "markdown",
   "metadata": {},
   "source": [
    "<p>tf.broadcast_to</p>"
   ]
  },
  {
   "cell_type": "code",
   "execution_count": 17,
   "metadata": {
    "ExecuteTime": {
     "end_time": "2021-03-01T15:40:08.574000Z",
     "start_time": "2021-03-01T15:40:08.571043Z"
    }
   },
   "outputs": [],
   "source": [
    "def broadcast_to(                              # 对一个张量进行广播\n",
    "    input: Union[Tensor, np.ndarray],          # 【含义】要广播的张量\n",
    "    shape: List[int],                          # 【含义】广播成的shape；【用法】务必保证input的shape和shape能够右对齐\n",
    "    name=None\n",
    ") -> Tensor: pass"
   ]
  },
  {
   "cell_type": "markdown",
   "metadata": {},
   "source": [
    "<p>tf.tile</p>"
   ]
  },
  {
   "cell_type": "code",
   "execution_count": 19,
   "metadata": {
    "ExecuteTime": {
     "end_time": "2021-03-01T15:44:18.323246Z",
     "start_time": "2021-03-01T15:44:18.319219Z"
    }
   },
   "outputs": [],
   "source": [
    "def tile(                                      # 对一个张量某些维度进行重复\n",
    "    input: Union[Tensor, np.ndarray],          # 【含义】要重复的张量\n",
    "    multiples: List[int],                      # 【含义】出现的次数；【用法】务必保证len(multiples) == len(input.shape)\n",
    "    name=None\n",
    ") -> Tensor: pass"
   ]
  },
  {
   "cell_type": "markdown",
   "metadata": {},
   "source": [
    "<p>tf.concat</p>"
   ]
  },
  {
   "cell_type": "code",
   "execution_count": 3,
   "metadata": {
    "ExecuteTime": {
     "end_time": "2021-03-04T11:20:50.077095Z",
     "start_time": "2021-03-04T11:20:50.073127Z"
    }
   },
   "outputs": [],
   "source": [
    "def concat(                                   # 张量拼接，不改变维度\n",
    "    values: List[Tensor],                     # 【含义】要拼接的张量\n",
    "    axis: int,                                # 【含义】在哪个轴进行拼接\n",
    "    name='concat'\n",
    ") -> Tensor: pass"
   ]
  },
  {
   "cell_type": "markdown",
   "metadata": {},
   "source": [
    "<p>tf.stack</p>"
   ]
  },
  {
   "cell_type": "code",
   "execution_count": 4,
   "metadata": {
    "ExecuteTime": {
     "end_time": "2021-03-04T11:22:22.954778Z",
     "start_time": "2021-03-04T11:22:22.950779Z"
    }
   },
   "outputs": [],
   "source": [
    "def stack(                                    # 张量堆叠，新增一个轴\n",
    "    values: List[Tensor],                     # 【含义】要堆叠的张量\n",
    "    axis: int = 0,                            # 【含义】新增哪个轴\n",
    "    name='stack'\n",
    ") -> Tensor: pass"
   ]
  },
  {
   "cell_type": "markdown",
   "metadata": {},
   "source": [
    "<p>tf.split</p>"
   ]
  },
  {
   "cell_type": "code",
   "execution_count": 7,
   "metadata": {
    "ExecuteTime": {
     "end_time": "2021-03-04T11:31:10.547717Z",
     "start_time": "2021-03-04T11:31:10.544743Z"
    }
   },
   "outputs": [],
   "source": [
    "def split(                                        # 切割张量\n",
    "    value: Tensor,                                # 【含义】要切割的张量\n",
    "    num_or_size_splits: Union[int, List[int]],    # 【含义】切割的份数或切割每份大小\n",
    "    axis: int = 0,                                # 【含义】在哪个轴进行切割\n",
    "    num=None, \n",
    "    name='split'\n",
    ") -> List[Tensor]: pass"
   ]
  },
  {
   "cell_type": "markdown",
   "metadata": {},
   "source": [
    "<p>tf.unstack</p>"
   ]
  },
  {
   "cell_type": "code",
   "execution_count": 5,
   "metadata": {
    "ExecuteTime": {
     "end_time": "2021-03-04T11:26:24.605912Z",
     "start_time": "2021-03-04T11:26:24.601913Z"
    }
   },
   "outputs": [],
   "source": [
    "def unstack(                                 # 解除堆叠，取消一个轴\n",
    "    value: Tensor,                           # 【含义】要解除堆叠的张量\n",
    "    num=None,                                \n",
    "    axis: int = 0,                           # 【含义】在哪个轴接触堆叠\n",
    "    name='unstack'\n",
    ") -> List[Tensor]: pass"
   ]
  },
  {
   "cell_type": "markdown",
   "metadata": {},
   "source": [
    "<p>tf.equal</p>"
   ]
  },
  {
   "cell_type": "code",
   "execution_count": 17,
   "metadata": {
    "ExecuteTime": {
     "end_time": "2021-03-04T12:12:47.290214Z",
     "start_time": "2021-03-04T12:12:47.287196Z"
    }
   },
   "outputs": [],
   "source": [
    "def equal(                                   # 逐元素比较是否相等\n",
    "    x: Tensor,                               # 【含义】第一个张量 \n",
    "    y: Tensor,                               # 【含义】第二个张量\n",
    "    name=None\n",
    ") -> Tensor: pass"
   ]
  },
  {
   "cell_type": "markdown",
   "metadata": {},
   "source": [
    "<p>tf.unique</p>"
   ]
  },
  {
   "cell_type": "code",
   "execution_count": 21,
   "metadata": {
    "ExecuteTime": {
     "end_time": "2021-03-04T12:23:21.495239Z",
     "start_time": "2021-03-04T12:23:21.490239Z"
    }
   },
   "outputs": [],
   "source": [
    "def unique(                                  # 去除重复元素\n",
    "    x: Tensor,                               # 【含义】张量\n",
    "    out_idx: DType = tf.int32,               # 【含义】第二个返回值元素类型\n",
    "    name=None\n",
    ") -> [\n",
    "    Tensor,                                  # 【含义】去除重复值后的张量\n",
    "    Tensor                                   # 【含义】原来张量的索引；【用法】shape同x，元素是x中的元素在第一个返回值中的索引\n",
    "]: pass"
   ]
  },
  {
   "cell_type": "markdown",
   "metadata": {},
   "source": [
    "<p>tf.sort</p>"
   ]
  },
  {
   "cell_type": "code",
   "execution_count": 23,
   "metadata": {
    "ExecuteTime": {
     "end_time": "2021-03-04T13:28:47.046527Z",
     "start_time": "2021-03-04T13:28:47.041529Z"
    }
   },
   "outputs": [],
   "source": [
    "def sort(                                     # 张量非原地排序\n",
    "    values: Tensor,                           # 【含义】张量\n",
    "    axis: int = -1,                          \n",
    "    direction: str = \"ASCENDING\",             # 【含义】升序还是降序；【用法】ASCENDING升序，DECENDING降序\n",
    "    name=None\n",
    ") -> Tensor: pass"
   ]
  },
  {
   "cell_type": "markdown",
   "metadata": {},
   "source": [
    "<p>tf.argsort</p>"
   ]
  },
  {
   "cell_type": "code",
   "execution_count": 24,
   "metadata": {
    "ExecuteTime": {
     "end_time": "2021-03-04T13:31:13.307281Z",
     "start_time": "2021-03-04T13:31:13.304207Z"
    }
   },
   "outputs": [],
   "source": [
    "def argsort(                                  # 排序后的索引\n",
    "    values: Tensor,                           # 【含义】张量\n",
    "    axis: int = -1,                    \n",
    "    direction: str = \"ASCENDING\",             # 【含义】升序还是降序；【用法】ASCENDING升序，DECENDING降序\n",
    "    stable: bool = False, \n",
    "    name=None\n",
    ") -> Tensor: pass"
   ]
  },
  {
   "cell_type": "markdown",
   "metadata": {},
   "source": [
    "<h2>tf.autodiff</h2>"
   ]
  },
  {
   "cell_type": "markdown",
   "metadata": {},
   "source": [
    "<p><b>tf.autodiff.GradientTape</b></p>"
   ]
  },
  {
   "cell_type": "code",
   "execution_count": 21,
   "metadata": {
    "ExecuteTime": {
     "end_time": "2021-02-27T23:49:11.073454Z",
     "start_time": "2021-02-27T23:49:11.067456Z"
    }
   },
   "outputs": [],
   "source": [
    "class GradientTape(object):\n",
    "    def __init__(\n",
    "        self,\n",
    "        persistent: bool = False,              # 【含义】是否持久化\n",
    "        watch_accessed_variables: bool = True  # 【含义】是否看变量\n",
    "    ) -> None: pass\n",
    "    \n",
    "    def gradient(                              # 自动求导\n",
    "        self,\n",
    "        target: Tensor,                        # 【含义】谁的导数；【用法】通常为loss\n",
    "        sources: List[Variable],               # 【含义】对谁的导数；【用法】通常为参数\n",
    "        output_gradients=None,\n",
    "        unconnected_gradients=\"none\"\n",
    "    ) -> List[Variable]: pass"
   ]
  },
  {
   "cell_type": "markdown",
   "metadata": {},
   "source": [
    "<h2>tf.keras</h2>"
   ]
  },
  {
   "cell_type": "markdown",
   "metadata": {},
   "source": [
    "<h3>tf.keras.layers</h3>"
   ]
  },
  {
   "cell_type": "markdown",
   "metadata": {},
   "source": [
    "<p>tf.keras.layers.Input</p>"
   ]
  },
  {
   "cell_type": "markdown",
   "metadata": {},
   "source": [
    "<p><b>tf.keras.layers.Layer</b></p>"
   ]
  },
  {
   "cell_type": "code",
   "execution_count": null,
   "metadata": {},
   "outputs": [],
   "source": [
    "class Layer:\n",
    "    \n",
    "    def build(                                                         # 构建一层\n",
    "        self,\n",
    "        input_shape: Union[None, list, tuple]                          # 【含义】张量的输入形状\n",
    "    ) -> None: pass"
   ]
  },
  {
   "cell_type": "markdown",
   "metadata": {},
   "source": [
    "<p><b>tf.keras.layers.Dense</b></p>"
   ]
  },
  {
   "cell_type": "code",
   "execution_count": 14,
   "metadata": {
    "ExecuteTime": {
     "end_time": "2021-02-27T19:44:47.699058Z",
     "start_time": "2021-02-27T19:44:47.694049Z"
    }
   },
   "outputs": [],
   "source": [
    "class Dense(Layer):                                                    # 全连接层，通常在最后几层使用\n",
    "    \n",
    "    kernel: Variable                                                    # 层的权重\n",
    "        \n",
    "    bias: Variable                                                      # 层的偏置\n",
    "    \n",
    "    def __init__(\n",
    "        self,\n",
    "        units: int,                                                     # 【含义】神经元个数，输出维度；【用法】回归问题units=1；二分类units=1，多分类units=类别数\n",
    "        activation: Union[None, str, FunctionType] = None,             # 【含义】激活函数；【用法】None或\"linear\"表示线性激活，用于回归问题输出层；\"relu\"或tf.nn.relu表示relu激活，用于分类问题隐藏层；\"softmax\"或tf.nn.softmax用于多分类输出层；\"sigmoid\"或tf.nn.sigmoid用于二分类输出层\n",
    "        use_bias: bool = True,                                         # 【含义】是否带偏置\n",
    "        kernel_initializer='glorot_uniform',                            # 【含义】权重初始化方法\n",
    "        bias_initializer='zeros',                                      # 【含义】偏置初始化方法\n",
    "        kernel_regularizer=None,\n",
    "        bias_regularizer=None,\n",
    "        activity_regularizer=None,\n",
    "        kernel_constraint=None,\n",
    "        bias_constraint=None,\n",
    "        name: Union[None, str] = None,                                 # 【含义】层的名字；【用法】为None则根据网络结构自动命名\n",
    "        input_shape: Union[None, list, tuple] = None                   # 【含义】输入的张量形状；【用法】如果使用Sequential模型并且Dense出现在第一层，必须写input_shape参数：要求输入形状为[batch_size, input_dim]，则input_shape=[input_dim]。如果不是第一层则填写None\n",
    "    ) -> None: pass"
   ]
  },
  {
   "cell_type": "markdown",
   "metadata": {},
   "source": [
    "<p><b>tf.keras.layers.Flatten</b></p>"
   ]
  },
  {
   "cell_type": "code",
   "execution_count": 13,
   "metadata": {
    "ExecuteTime": {
     "end_time": "2021-02-27T19:44:42.261633Z",
     "start_time": "2021-02-27T19:44:42.257632Z"
    }
   },
   "outputs": [],
   "source": [
    "class Flatten(Layer):\n",
    "    def __init__(\n",
    "        self,\n",
    "        data_format: str = \"channels_last\",             # 【含义】图像数据格式；【用法】\"channels_last\"表示通道位于最后一个轴，即一个batch的shape是[batch_size, w, h, c]；\"channels_first\"表示通道位于最开始的轴，即一个batch的shape是[batch_size, c, w, h]\n",
    "        name: Union[None, str] = None                  # 【含义】层的名字；【用法】如果为None根据网络结构自动命名\n",
    "    ) -> None: pass"
   ]
  },
  {
   "cell_type": "markdown",
   "metadata": {},
   "source": [
    "<p><b>tf.keras.layers.Conv1D</b></p>"
   ]
  },
  {
   "cell_type": "markdown",
   "metadata": {},
   "source": [
    "<p><b>Conv2D</b></p>"
   ]
  },
  {
   "cell_type": "markdown",
   "metadata": {},
   "source": [
    "<p><b>GlobalAveragePooling1D</b></p>"
   ]
  },
  {
   "cell_type": "markdown",
   "metadata": {},
   "source": [
    "<p><b>GlobalAveragePooling2D</b></p>"
   ]
  },
  {
   "cell_type": "markdown",
   "metadata": {},
   "source": [
    "<p><b>MaxPool2D</b></p>"
   ]
  },
  {
   "cell_type": "markdown",
   "metadata": {},
   "source": [
    "<p><b>Dropout</b></p>"
   ]
  },
  {
   "cell_type": "markdown",
   "metadata": {},
   "source": [
    "<p><b>LSTM</b></p>"
   ]
  },
  {
   "cell_type": "markdown",
   "metadata": {},
   "source": [
    "<p><b>Bidirectional</b></p>"
   ]
  },
  {
   "cell_type": "markdown",
   "metadata": {},
   "source": [
    "<p><b>Lambda</b></p>"
   ]
  },
  {
   "cell_type": "markdown",
   "metadata": {},
   "source": [
    "<p><b>Embedding</b></p>"
   ]
  },
  {
   "cell_type": "markdown",
   "metadata": {},
   "source": [
    "<h3>models</h3>"
   ]
  },
  {
   "cell_type": "markdown",
   "metadata": {},
   "source": [
    "<p>load_model</p>"
   ]
  },
  {
   "cell_type": "markdown",
   "metadata": {},
   "source": [
    "<p><b>Model</b></p>"
   ]
  },
  {
   "cell_type": "code",
   "execution_count": 20,
   "metadata": {
    "ExecuteTime": {
     "end_time": "2021-02-27T23:47:25.653367Z",
     "start_time": "2021-02-27T23:47:25.649369Z"
    }
   },
   "outputs": [],
   "source": [
    "class Model:\n",
    "    \n",
    "    trainable_variables: List[Variable]"
   ]
  },
  {
   "cell_type": "markdown",
   "metadata": {},
   "source": [
    "<p><b>Sequential</b></p>"
   ]
  },
  {
   "cell_type": "markdown",
   "metadata": {
    "ExecuteTime": {
     "end_time": "2021-02-11T07:02:24.357125Z",
     "start_time": "2021-02-11T07:02:24.353115Z"
    }
   },
   "source": [
    "<h3>optimizers</h3>"
   ]
  },
  {
   "cell_type": "markdown",
   "metadata": {},
   "source": [
    "<p><b>Optimizer</b></p>"
   ]
  },
  {
   "cell_type": "code",
   "execution_count": 22,
   "metadata": {
    "ExecuteTime": {
     "end_time": "2021-02-27T23:53:42.851450Z",
     "start_time": "2021-02-27T23:53:42.848450Z"
    }
   },
   "outputs": [],
   "source": [
    "class Optimizer:\n",
    "    \n",
    "    def apply_gradients(\n",
    "        self,\n",
    "        grads_and_vars: List[List[Variable]],                # 【含义】梯度和变量；【用法】[[梯度, 参数], [梯度, 参数], ...]\n",
    "        name: Union[None, str] = None,                      # 【含义】操作的名称\n",
    "        experimental_aggregate_gradients: bool = True\n",
    "    ) -> None: pass"
   ]
  },
  {
   "cell_type": "markdown",
   "metadata": {},
   "source": [
    "<p><b>SGD</b></p>"
   ]
  },
  {
   "cell_type": "code",
   "execution_count": 32,
   "metadata": {
    "ExecuteTime": {
     "end_time": "2021-02-27T20:16:57.019189Z",
     "start_time": "2021-02-27T20:16:57.016130Z"
    }
   },
   "outputs": [],
   "source": [
    "class SGD(Optimizer):\n",
    "    def __init__(\n",
    "        self,\n",
    "        learning_rate: float = 0.01,                      # 【含义】学习率\n",
    "        momentum: float = 0.0,                            # 【含义】动量；【用法】0-1之间的一个数\n",
    "        nesterov=False,\n",
    "        name: str = \"SGD\",                                # 【含义】名称\n",
    "    ) -> None: pass"
   ]
  },
  {
   "cell_type": "markdown",
   "metadata": {},
   "source": [
    "<p><b>RMSprop</b></p>"
   ]
  },
  {
   "cell_type": "markdown",
   "metadata": {},
   "source": [
    "<p><b>Adam</b></p>"
   ]
  },
  {
   "cell_type": "markdown",
   "metadata": {},
   "source": [
    "<h3>losses</h3>"
   ]
  },
  {
   "cell_type": "markdown",
   "metadata": {},
   "source": [
    "<p>mse</p>"
   ]
  },
  {
   "cell_type": "code",
   "execution_count": 86,
   "metadata": {
    "ExecuteTime": {
     "end_time": "2021-02-28T05:55:05.921644Z",
     "start_time": "2021-02-28T05:55:05.918562Z"
    }
   },
   "outputs": [],
   "source": [
    "def mse(                  # 计算一个batch的均方根误差\n",
    "    y_true: Tensor,       # 【含义】实际值\n",
    "    y_pred: Tensor        # 【含义】预测值\n",
    ") -> Tensor: pass"
   ]
  },
  {
   "cell_type": "markdown",
   "metadata": {},
   "source": [
    "<p><b>BinaryCrossentropy</b></p>"
   ]
  },
  {
   "cell_type": "markdown",
   "metadata": {},
   "source": [
    "<h3>datasets</h3>"
   ]
  },
  {
   "cell_type": "markdown",
   "metadata": {},
   "source": [
    "<h4>fashion_mnist</h4>"
   ]
  },
  {
   "cell_type": "markdown",
   "metadata": {},
   "source": [
    "<p>load_data</p>"
   ]
  },
  {
   "cell_type": "markdown",
   "metadata": {},
   "source": [
    "<h4>mnist</h4>"
   ]
  },
  {
   "cell_type": "markdown",
   "metadata": {},
   "source": [
    "<p>load_data</p>"
   ]
  },
  {
   "cell_type": "markdown",
   "metadata": {},
   "source": [
    "<h3>callbacks</h3>"
   ]
  },
  {
   "cell_type": "markdown",
   "metadata": {},
   "source": [
    "<p><b>Callback</b></p>"
   ]
  },
  {
   "cell_type": "markdown",
   "metadata": {},
   "source": [
    "<p><b>History</b></p>"
   ]
  },
  {
   "cell_type": "markdown",
   "metadata": {},
   "source": [
    "<p><b>TensorBoard</b></p>"
   ]
  },
  {
   "cell_type": "markdown",
   "metadata": {},
   "source": [
    "<p><b>LearningRateScheduler</b></p>"
   ]
  },
  {
   "cell_type": "markdown",
   "metadata": {},
   "source": [
    "<p><b>EarlyStopping</b></p>"
   ]
  },
  {
   "cell_type": "markdown",
   "metadata": {},
   "source": [
    "<h3>applications</h3>"
   ]
  },
  {
   "cell_type": "markdown",
   "metadata": {},
   "source": [
    "InceptionV3"
   ]
  },
  {
   "cell_type": "markdown",
   "metadata": {},
   "source": [
    "<p>MobileNetV2</p>"
   ]
  },
  {
   "cell_type": "markdown",
   "metadata": {},
   "source": [
    "<h4>inception_v3</h4>"
   ]
  },
  {
   "cell_type": "markdown",
   "metadata": {},
   "source": [
    "<p>InceptionV3</p>"
   ]
  },
  {
   "cell_type": "markdown",
   "metadata": {},
   "source": [
    "<h4>mobilenet_v2</h4>"
   ]
  },
  {
   "cell_type": "markdown",
   "metadata": {},
   "source": [
    "<p>MobileNetV2</p>"
   ]
  },
  {
   "cell_type": "markdown",
   "metadata": {},
   "source": [
    "<h3>preprocessing</h3>"
   ]
  },
  {
   "cell_type": "markdown",
   "metadata": {},
   "source": [
    "<h4>image</h4>"
   ]
  },
  {
   "cell_type": "markdown",
   "metadata": {},
   "source": [
    "<p>load_img</p>"
   ]
  },
  {
   "cell_type": "markdown",
   "metadata": {},
   "source": [
    "<p>img_to_array</p>"
   ]
  },
  {
   "cell_type": "markdown",
   "metadata": {},
   "source": [
    "<p><b>ImageDataGenerator</b></p>"
   ]
  },
  {
   "cell_type": "markdown",
   "metadata": {},
   "source": [
    "<p><b>DirectoryIterator</b></p>"
   ]
  },
  {
   "cell_type": "markdown",
   "metadata": {},
   "source": [
    "<h4>text</h4>"
   ]
  },
  {
   "cell_type": "markdown",
   "metadata": {},
   "source": [
    "<p><b>DirectoryIterator</b></p>"
   ]
  },
  {
   "cell_type": "markdown",
   "metadata": {},
   "source": [
    "<h4>sequence</h4>"
   ]
  },
  {
   "cell_type": "markdown",
   "metadata": {},
   "source": [
    "<p>pad_sequences</p>"
   ]
  },
  {
   "cell_type": "markdown",
   "metadata": {},
   "source": [
    "<h3>backend</h3>"
   ]
  },
  {
   "cell_type": "markdown",
   "metadata": {},
   "source": [
    "<p>clear_session</p>"
   ]
  },
  {
   "cell_type": "markdown",
   "metadata": {},
   "source": [
    "<h3>utils</h3>"
   ]
  },
  {
   "cell_type": "markdown",
   "metadata": {},
   "source": [
    "<p>to_categorical</p>"
   ]
  },
  {
   "cell_type": "code",
   "execution_count": 94,
   "metadata": {
    "ExecuteTime": {
     "end_time": "2021-02-28T06:24:22.232566Z",
     "start_time": "2021-02-28T06:24:22.228597Z"
    }
   },
   "outputs": [],
   "source": [
    "def to_categorical(                                  # 转成one_hot格式，通常对应categorical_crossentropy的loss\n",
    "    y: Union[np.ndarray, List[Number]],              # 【含义】要转换的数组\n",
    "    num_classes: Union[None, int] = None,           # 【含义】类别数\n",
    "    dtype: str = 'float32'                           # 【含义】元素类型\n",
    ") -> np.ndarray: pass"
   ]
  },
  {
   "cell_type": "markdown",
   "metadata": {},
   "source": [
    "<h3>metrics</h3>"
   ]
  },
  {
   "cell_type": "markdown",
   "metadata": {},
   "source": [
    "<p>mean_squared_error</p>"
   ]
  },
  {
   "cell_type": "markdown",
   "metadata": {},
   "source": [
    "<p>mean_absolute_error</p>"
   ]
  },
  {
   "cell_type": "markdown",
   "metadata": {},
   "source": [
    "<h2>tf.nn</h2>"
   ]
  },
  {
   "cell_type": "markdown",
   "metadata": {},
   "source": [
    "<p>tf.nn.relu</p>"
   ]
  },
  {
   "cell_type": "markdown",
   "metadata": {},
   "source": [
    "<p>tf.nn.softmax</p>"
   ]
  },
  {
   "cell_type": "markdown",
   "metadata": {},
   "source": [
    "<h2>tf.optimizers</h2>"
   ]
  },
  {
   "cell_type": "markdown",
   "metadata": {},
   "source": [
    "<p><b>tf.optimizers.Adam</b></p>"
   ]
  },
  {
   "cell_type": "markdown",
   "metadata": {},
   "source": [
    "<p><b>tf.optimizers.RMSprop</b></p>"
   ]
  },
  {
   "cell_type": "markdown",
   "metadata": {},
   "source": [
    "<h2>tf.data</h2>"
   ]
  },
  {
   "cell_type": "markdown",
   "metadata": {},
   "source": [
    "<p><b>tf.data.Dataset</b></p>"
   ]
  },
  {
   "cell_type": "code",
   "execution_count": 30,
   "metadata": {
    "ExecuteTime": {
     "end_time": "2021-02-27T20:10:03.245138Z",
     "start_time": "2021-02-27T20:10:03.241139Z"
    }
   },
   "outputs": [],
   "source": [
    "class Dataset:\n",
    "    def __init__(\n",
    "        self\n",
    "    ) -> None: pass\n",
    "    \n",
    "    @staticmethod\n",
    "    def from_tensor_slices(\n",
    "        tensors: List[np.ndarray]                 # 【含义】要转换的数组\n",
    "    ) -> List[Tensor]: pass"
   ]
  },
  {
   "cell_type": "markdown",
   "metadata": {},
   "source": [
    "<h2>tf.compat</h2>"
   ]
  },
  {
   "cell_type": "markdown",
   "metadata": {},
   "source": [
    "<h3>tf.compat.v1</h3>"
   ]
  },
  {
   "cell_type": "markdown",
   "metadata": {},
   "source": [
    "<p>tf.compat.v1.reset_default_graph</p>"
   ]
  },
  {
   "cell_type": "markdown",
   "metadata": {},
   "source": [
    "<p>tf.compat.v1.ConfigProto</p>"
   ]
  },
  {
   "cell_type": "markdown",
   "metadata": {},
   "source": [
    "<p><b>tf.compat.v1.Session</b></p>"
   ]
  },
  {
   "cell_type": "markdown",
   "metadata": {},
   "source": [
    "<h4>tf.compat.v1.data</h4>"
   ]
  },
  {
   "cell_type": "markdown",
   "metadata": {},
   "source": [
    "<p>tf.compat.v1.data.get_output_shapes</p>"
   ]
  },
  {
   "cell_type": "markdown",
   "metadata": {},
   "source": [
    "<h3>tf.compat.v2</h3>"
   ]
  },
  {
   "cell_type": "markdown",
   "metadata": {},
   "source": [
    "<h2>tf.raw_ops</h2>"
   ]
  },
  {
   "cell_type": "markdown",
   "metadata": {},
   "source": [
    "<p><b>tf.raw_ops.TensorSliceDataset</b></p>"
   ]
  },
  {
   "cell_type": "code",
   "execution_count": 29,
   "metadata": {
    "ExecuteTime": {
     "end_time": "2021-02-27T20:05:12.155787Z",
     "start_time": "2021-02-27T20:05:12.149790Z"
    }
   },
   "outputs": [],
   "source": [
    "class TensorSliceDataset:\n",
    "    def __init__(\n",
    "        self,\n",
    "        tensors: List[np.ndarray]                                              # 【含义】要转换的张量\n",
    "    ) -> None: pass\n",
    "    \n",
    "    def batch(\n",
    "        self,\n",
    "        batch_size: int,                                                       # 【含义】一个batch包含多少个样本\n",
    "        drop_remainder: bool = False                                          # 【含义】是否丢弃长度不足的样本；【用法】在时间表序列中通常指定为True\n",
    "    ) -> BatchDataset: pass"
   ]
  },
  {
   "cell_type": "markdown",
   "metadata": {},
   "source": [
    "<p><b>tf.raw_ops.WindowDataset</b></p>"
   ]
  },
  {
   "cell_type": "markdown",
   "metadata": {},
   "source": [
    "<p><b>tf.raw_ops.FlatMapDataset</b></p>"
   ]
  },
  {
   "cell_type": "markdown",
   "metadata": {},
   "source": [
    "<p><b>tf.raw_ops.BatchDataset</b></p>"
   ]
  },
  {
   "cell_type": "markdown",
   "metadata": {},
   "source": [
    "<p><b>tf.raw_ops.PaddedBatchDataset</b></p>"
   ]
  },
  {
   "cell_type": "markdown",
   "metadata": {},
   "source": [
    "<p><b>tf.raw_ops.PrefetchDataset</b></p>"
   ]
  },
  {
   "cell_type": "markdown",
   "metadata": {},
   "source": [
    "<h2>tf.random</h2>"
   ]
  },
  {
   "cell_type": "markdown",
   "metadata": {},
   "source": [
    "<p>tf.random.normal</p>"
   ]
  },
  {
   "cell_type": "code",
   "execution_count": 72,
   "metadata": {
    "ExecuteTime": {
     "end_time": "2021-02-28T04:45:21.772766Z",
     "start_time": "2021-02-28T04:45:21.768796Z"
    }
   },
   "outputs": [],
   "source": [
    "def normal(                                                    # 生成正态分布张量\n",
    "    shape: Union[List[int], Tuple[int]],                       # 【含义】张量的shape\n",
    "    mean: float = 0.0,                                         # 【含义】正态分布的均值\n",
    "    stddev: float = 1.0,                                       # 【含义】正态分布的标准差\n",
    "    dtype: DType = float32,                                    # 【含义】元素类型\n",
    "    seed: Union[None, int] = None,                            # 【含义】随机种子\n",
    "    name: Union[None, str] = None                             # 【含义】张量的名称\n",
    ") -> Tensor: pass"
   ]
  },
  {
   "cell_type": "markdown",
   "metadata": {},
   "source": [
    "<p>tf.random.truncated_normal</p>"
   ]
  },
  {
   "cell_type": "code",
   "execution_count": 73,
   "metadata": {
    "ExecuteTime": {
     "end_time": "2021-02-28T04:47:27.573019Z",
     "start_time": "2021-02-28T04:47:27.568020Z"
    }
   },
   "outputs": [],
   "source": [
    "def truncated_normal(                                          # 生成截断正态分布张量\n",
    "    shape: Union[List[int], Tuple[int]],                       # 【含义】张量的shape\n",
    "    mean: float = 0.0,                                         # 【含义】正态分布的均值\n",
    "    stddev: float = 1.0,                                       # 【含义】正态分布的标准差\n",
    "    dtype: DType = float32,                                    # 【含义】元素类型\n",
    "    seed: Union[None, int] = None,                            # 【含义】随机种子\n",
    "    name: Union[None, str] = None                             # 【含义】张量的名称\n",
    ") -> Tensor: pass"
   ]
  },
  {
   "cell_type": "markdown",
   "metadata": {},
   "source": [
    "<p>tf.random.uniform</p>"
   ]
  },
  {
   "cell_type": "code",
   "execution_count": 75,
   "metadata": {
    "ExecuteTime": {
     "end_time": "2021-02-28T04:50:54.272555Z",
     "start_time": "2021-02-28T04:50:54.269554Z"
    }
   },
   "outputs": [],
   "source": [
    "def uniform(                                                   # 生成均匀分布张量\n",
    "    shape: Union[List[int], Tuple[int]],                       # 【含义】张量的shape\n",
    "    minval: float = 0,                                         # 【含义】区间最小值\n",
    "    maxval: Union[None, float] = None,                        # 【含义】区间最大值\n",
    "    dtype: DType = float32,                                    # 【含义】元素类型\n",
    "    seed: Union[None, int] = None,                            # 【含义】随机种子\n",
    "    name: Union[None, str] = None                             # 【含义】张量的名称\n",
    ") -> Tensor: pass"
   ]
  },
  {
   "cell_type": "markdown",
   "metadata": {},
   "source": [
    "<p>tf.random.shuffle</p>"
   ]
  },
  {
   "cell_type": "code",
   "execution_count": 77,
   "metadata": {
    "ExecuteTime": {
     "end_time": "2021-02-28T05:42:32.306503Z",
     "start_time": "2021-02-28T05:42:32.301541Z"
    }
   },
   "outputs": [],
   "source": [
    "def shuffle(                                                   # 随即洗牌\n",
    "    value: Tensor,                                             # 【含义】要洗牌的张量\n",
    "    seed: Union[None, int] = None,                            # 【含义】随机种子\n",
    "    name: Union[None, str] = None                             # 【含义】张量的名称\n",
    ") -> Tensor: pass"
   ]
  },
  {
   "cell_type": "markdown",
   "metadata": {},
   "source": [
    "<h2>tf.math</h2>"
   ]
  },
  {
   "cell_type": "markdown",
   "metadata": {},
   "source": [
    "<p>tf.math.log</p>"
   ]
  },
  {
   "cell_type": "code",
   "execution_count": 28,
   "metadata": {
    "ExecuteTime": {
     "end_time": "2021-03-01T15:54:51.930269Z",
     "start_time": "2021-03-01T15:54:51.928268Z"
    }
   },
   "outputs": [],
   "source": [
    "def log(                        # 每个元素求对数，底数为e\n",
    "    x: Tensor,                  # 【含义】要求谁的对数\n",
    "    name=None                \n",
    ") -> Tensor: pass"
   ]
  },
  {
   "cell_type": "markdown",
   "metadata": {},
   "source": [
    "<p>tf.math.exp</p>"
   ]
  },
  {
   "cell_type": "code",
   "execution_count": 30,
   "metadata": {
    "ExecuteTime": {
     "end_time": "2021-03-01T15:56:25.362225Z",
     "start_time": "2021-03-01T15:56:25.359225Z"
    }
   },
   "outputs": [],
   "source": [
    "def exp(                         # 每个元素求指数，底数为e\n",
    "    x: Tensor,                   # 【含义】要求e的多少次方\n",
    "    name=None\n",
    ") -> Tensor: pass"
   ]
  },
  {
   "cell_type": "markdown",
   "metadata": {},
   "source": [
    "<p>tf.math.top_k</p>"
   ]
  },
  {
   "cell_type": "code",
   "execution_count": 28,
   "metadata": {
    "ExecuteTime": {
     "end_time": "2021-03-04T13:58:09.235055Z",
     "start_time": "2021-03-04T13:58:09.232057Z"
    }
   },
   "outputs": [],
   "source": [
    "def top_k(                        # 最大的k个值\n",
    "    input: Tensor,                # 【含义】张量 \n",
    "    k: int = 1,                   # 【含义】最大的几个值 \n",
    "    sorted: bool = True, \n",
    "    name=None\n",
    ") -> (\n",
    "    Tensor,                       # 【含义】最大的k个值；【用法】也可用result.values返回\n",
    "    Tensor                        # 【含义】最大的k个值所在的位置；【用法】也可用result.,indices返回\n",
    "): pass"
   ]
  },
  {
   "cell_type": "markdown",
   "metadata": {},
   "source": [
    "<h1>tensorflow_datasets</h1>"
   ]
  },
  {
   "cell_type": "code",
   "execution_count": null,
   "metadata": {},
   "outputs": [],
   "source": []
  },
  {
   "cell_type": "markdown",
   "metadata": {},
   "source": [
    "<h1>调参流程</h1>"
   ]
  },
  {
   "cell_type": "markdown",
   "metadata": {},
   "source": [
    "<ol>\n",
    "    <li>调节网络结构，直到<b>训练集</b>精度到达粗粒度可接受范围</li>\n",
    "    <li>调节units，直到<b>训练集</b>精度到达细粒度可接受范围</li>\n",
    "    <li>调节正则化，直到<b>验证集</b>精度到达粗粒度可接受范围，依次尝试\n",
    "        <ol>\n",
    "            <li>data augment (ImageDataGenerator)</li>\n",
    "            <li>BatchNormalization</li>\n",
    "            <li>Dropout</li>\n",
    "        </ol>\n",
    "    </li>\n",
    "    <li>调节优化器和learning rate，使用learning rate上升法找到最快且稳定的learning rate。\n",
    "        <ol>\n",
    "            <li>如果learning curve不再下降或出现抖动，可尝试降低learning rate</li>\n",
    "        </ol>\n",
    "    </li>\n",
    "    <li>使用early stop，调节epochs，直到<b>验证集</b>精度到达细粒度可接受范围</li>\n",
    "</ol>"
   ]
  },
  {
   "cell_type": "code",
   "execution_count": null,
   "metadata": {},
   "outputs": [],
   "source": []
  }
 ],
 "metadata": {
  "kernelspec": {
   "display_name": "Python 3",
   "language": "python",
   "name": "python3"
  },
  "language_info": {
   "codemirror_mode": {
    "name": "ipython",
    "version": 3
   },
   "file_extension": ".py",
   "mimetype": "text/x-python",
   "name": "python",
   "nbconvert_exporter": "python",
   "pygments_lexer": "ipython3",
   "version": "3.7.3"
  },
  "toc": {
   "base_numbering": 1,
   "nav_menu": {},
   "number_sections": true,
   "sideBar": true,
   "skip_h1_title": false,
   "title_cell": "Table of Contents",
   "title_sidebar": "Contents",
   "toc_cell": false,
   "toc_position": {
    "height": "calc(100% - 180px)",
    "left": "10px",
    "top": "150px",
    "width": "251.038px"
   },
   "toc_section_display": true,
   "toc_window_display": true
  },
  "varInspector": {
   "cols": {
    "lenName": 16,
    "lenType": 16,
    "lenVar": 40
   },
   "kernels_config": {
    "python": {
     "delete_cmd_postfix": "",
     "delete_cmd_prefix": "del ",
     "library": "var_list.py",
     "varRefreshCmd": "print(var_dic_list())"
    },
    "r": {
     "delete_cmd_postfix": ") ",
     "delete_cmd_prefix": "rm(",
     "library": "var_list.r",
     "varRefreshCmd": "cat(var_dic_list()) "
    }
   },
   "types_to_exclude": [
    "module",
    "function",
    "builtin_function_or_method",
    "instance",
    "_Feature"
   ],
   "window_display": false
  }
 },
 "nbformat": 4,
 "nbformat_minor": 4
}
